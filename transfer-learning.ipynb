{
 "cells": [
  {
   "cell_type": "code",
   "execution_count": 2,
   "metadata": {},
   "outputs": [
    {
     "name": "stdout",
     "output_type": "stream",
     "text": [
      "Num GPUs Available:  1\n"
     ]
    }
   ],
   "source": [
    "import numpy as np\n",
    "import tensorflow as tf\n",
    "\n",
    "from tensorflow.compat.v1.keras.backend import set_session\n",
    "\n",
    "# We want our experiment to be reproducible\n",
    "np.random.seed(42)\n",
    "tf.compat.v1.set_random_seed(42)\n",
    "\n",
    "# This setting allows Tensorflow to allocate GPU memory in runtime rather than at the session initialization.\n",
    "config =tf.compat.v1.ConfigProto()\n",
    "config.gpu_options.allow_growth = True\n",
    "set_session(tf.compat.v1.Session(config=config))\n",
    "\n",
    "print(\"Num GPUs Available: \", len(tf.config.experimental.list_physical_devices('GPU')))"
   ]
  },
  {
   "cell_type": "code",
   "execution_count": 3,
   "metadata": {},
   "outputs": [],
   "source": [
    "train_data_dir = 'data/train'\n",
    "test_data_dir = 'data/test'\n",
    "validation_data_dir = 'data/validation'\n",
    "\n",
    "img_height = 299\n",
    "img_width = 299\n",
    "\n",
    "# You may need to decrease batch size depending on your GPU capacity\n",
    "batch_size = 16\n",
    "epochs = 10\n",
    "\n",
    "train_first_class = 2000\n",
    "train_second_class = 2000\n",
    "\n",
    "val_first_class = 1000\n",
    "val_second_class = 1000\n",
    "\n",
    "nb_train_samples = train_first_class + train_second_class\n",
    "nb_validation_samples = val_first_class + val_second_class"
   ]
  },
  {
   "cell_type": "code",
   "execution_count": 4,
   "metadata": {},
   "outputs": [
    {
     "name": "stdout",
     "output_type": "stream",
     "text": [
      "Found 4000 images belonging to 2 classes.\n",
      "Prediction of the training set finished.\n",
      "Found 2000 images belonging to 2 classes.\n",
      "Prediction of the validation set finished.\n"
     ]
    }
   ],
   "source": [
    "from keras.layers import Input\n",
    "from keras.applications import xception\n",
    "from keras.preprocessing import image\n",
    "\n",
    "input_tensor = Input(shape=(img_height,img_width,3))\n",
    "\n",
    "base_model = xception.Xception(weights='imagenet',\n",
    "                          include_top=False,\n",
    "                          input_shape=(img_width, img_height, 3),\n",
    "                          pooling='avg')\n",
    "\n",
    "data_generator = image.ImageDataGenerator(rescale=1. / 255)\n",
    "\n",
    "train_generator = data_generator.flow_from_directory(\n",
    "    train_data_dir,\n",
    "    target_size=(img_height, img_width),\n",
    "    batch_size=batch_size,\n",
    "    class_mode=None,\n",
    "    shuffle=False)\n",
    "\n",
    "bottleneck_features_train = base_model.predict(\n",
    "        train_generator, \n",
    "        nb_train_samples // batch_size)\n",
    "\n",
    "print('Prediction of the training set finished.')\n",
    "\n",
    "np.save(open('bottleneck_features_train.npy', 'wb'),\n",
    "            bottleneck_features_train)\n",
    "\n",
    "validation_generator = data_generator.flow_from_directory(\n",
    "    validation_data_dir,\n",
    "    target_size=(img_height, img_width),\n",
    "    batch_size=batch_size,\n",
    "    class_mode=None,\n",
    "    shuffle=False)\n",
    "\n",
    "bottleneck_features_validation = base_model.predict(\n",
    "        validation_generator, \n",
    "        nb_validation_samples // batch_size)\n",
    "\n",
    "print('Prediction of the validation set finished.')\n",
    "\n",
    "np.save(open('bottleneck_features_validation.npy', 'wb'),\n",
    "            bottleneck_features_validation)"
   ]
  },
  {
   "cell_type": "code",
   "execution_count": 5,
   "metadata": {},
   "outputs": [],
   "source": [
    "train_data = np.load(open('bottleneck_features_train.npy', 'rb'))\n",
    "train_labels = np.array(([0] * train_first_class) + ([1] * train_second_class))\n",
    "\n",
    "validation_data = np.load(open('bottleneck_features_validation.npy', 'rb'))\n",
    "validation_labels = np.array(\n",
    "        [0] * (val_first_class) + [1] * (val_second_class))"
   ]
  },
  {
   "cell_type": "code",
   "execution_count": 6,
   "metadata": {
    "scrolled": true
   },
   "outputs": [
    {
     "name": "stdout",
     "output_type": "stream",
     "text": [
      "Epoch 1/10\n",
      "250/250 [==============================] - 3s 9ms/step - loss: 0.5745 - acc: 0.7158 - val_loss: 0.1940 - val_acc: 0.9930\n",
      "\n",
      "Epoch 00001: val_loss improved from inf to 0.19401, saving model to top-weights.hdf5\n",
      "Epoch 2/10\n",
      "250/250 [==============================] - 1s 5ms/step - loss: 0.2102 - acc: 0.9648 - val_loss: 0.0688 - val_acc: 0.9935\n",
      "\n",
      "Epoch 00002: val_loss improved from 0.19401 to 0.06878, saving model to top-weights.hdf5\n",
      "Epoch 3/10\n",
      "250/250 [==============================] - 1s 5ms/step - loss: 0.1015 - acc: 0.9807 - val_loss: 0.0422 - val_acc: 0.9935\n",
      "\n",
      "Epoch 00003: val_loss improved from 0.06878 to 0.04220, saving model to top-weights.hdf5\n",
      "Epoch 4/10\n",
      "250/250 [==============================] - 1s 5ms/step - loss: 0.0730 - acc: 0.9855 - val_loss: 0.0323 - val_acc: 0.9940\n",
      "\n",
      "Epoch 00004: val_loss improved from 0.04220 to 0.03231, saving model to top-weights.hdf5\n",
      "Epoch 5/10\n",
      "250/250 [==============================] - 1s 5ms/step - loss: 0.0530 - acc: 0.9886 - val_loss: 0.0278 - val_acc: 0.9945\n",
      "\n",
      "Epoch 00005: val_loss improved from 0.03231 to 0.02775, saving model to top-weights.hdf5\n",
      "Epoch 6/10\n",
      "250/250 [==============================] - 1s 5ms/step - loss: 0.0531 - acc: 0.9888 - val_loss: 0.0253 - val_acc: 0.9940\n",
      "\n",
      "Epoch 00006: val_loss improved from 0.02775 to 0.02525, saving model to top-weights.hdf5\n",
      "Epoch 7/10\n",
      "250/250 [==============================] - 1s 5ms/step - loss: 0.0432 - acc: 0.9891 - val_loss: 0.0234 - val_acc: 0.9945\n",
      "\n",
      "Epoch 00007: val_loss improved from 0.02525 to 0.02340, saving model to top-weights.hdf5\n",
      "Epoch 8/10\n",
      "250/250 [==============================] - 1s 5ms/step - loss: 0.0404 - acc: 0.9885 - val_loss: 0.0221 - val_acc: 0.9945\n",
      "\n",
      "Epoch 00008: val_loss improved from 0.02340 to 0.02208, saving model to top-weights.hdf5\n",
      "Epoch 9/10\n",
      "250/250 [==============================] - 1s 5ms/step - loss: 0.0351 - acc: 0.9900 - val_loss: 0.0219 - val_acc: 0.9945\n",
      "\n",
      "Epoch 00009: val_loss improved from 0.02208 to 0.02186, saving model to top-weights.hdf5\n",
      "Epoch 10/10\n",
      "250/250 [==============================] - 1s 5ms/step - loss: 0.0335 - acc: 0.9914 - val_loss: 0.0212 - val_acc: 0.9945\n",
      "\n",
      "Epoch 00010: val_loss improved from 0.02186 to 0.02116, saving model to top-weights.hdf5\n"
     ]
    }
   ],
   "source": [
    "from keras.models import Sequential\n",
    "from keras.callbacks import ModelCheckpoint\n",
    "from keras.optimizers import SGD\n",
    "from keras.layers import Dropout, Dense\n",
    "\n",
    "model = Sequential()\n",
    "    \n",
    "model.add(Dense(256, activation='relu', input_shape=base_model.output_shape[1:]))\n",
    "model.add(Dropout(0.5))\n",
    "\n",
    "model.add(Dense(128, activation='relu'))\n",
    "model.add(Dropout(0.5))    \n",
    "\n",
    "model.add(Dense(1, activation='sigmoid'))\n",
    "\n",
    "model.compile(optimizer=SGD(lr=0.005),\n",
    "              loss='binary_crossentropy',\n",
    "              metrics=['acc'])\n",
    "\n",
    "checkpointer = ModelCheckpoint(filepath='top-weights.hdf5', verbose=1, save_best_only=True)\n",
    "\n",
    "history = model.fit(train_data,\n",
    "                    train_labels,\n",
    "                    epochs=epochs,\n",
    "                    batch_size=batch_size,\n",
    "                    callbacks=[checkpointer],\n",
    "                    validation_data=(validation_data, validation_labels))"
   ]
  },
  {
   "cell_type": "code",
   "execution_count": 7,
   "metadata": {},
   "outputs": [
    {
     "data": {
      "image/png": "[encoded data removed]",
      "text/plain": [
       "<Figure size 432x288 with 1 Axes>"
      ]
     },
     "metadata": {
      "needs_background": "light"
     },
     "output_type": "display_data"
    },
    {
     "data": {
      "image/png": "[encoded data removed]",
      "text/plain": [
       "<Figure size 432x288 with 1 Axes>"
      ]
     },
     "metadata": {
      "needs_background": "light"
     },
     "output_type": "display_data"
    }
   ],
   "source": [
    "%matplotlib inline\n",
    "from matplotlib import pyplot as plt\n",
    "\n",
    "plt.plot(history.history['acc'])\n",
    "plt.plot(history.history['val_acc'])\n",
    "plt.title('model accuracy')\n",
    "plt.ylabel('accuracy')\n",
    "plt.xlabel('epoch')\n",
    "plt.legend(['train', 'test'], loc='upper left')\n",
    "plt.show()\n",
    "\n",
    "plt.plot(history.history['loss'])\n",
    "plt.plot(history.history['val_loss'])\n",
    "plt.title('model loss')\n",
    "plt.ylabel('loss')\n",
    "plt.xlabel('epoch')\n",
    "plt.legend(['train', 'test'], loc='upper left')\n",
    "plt.show()"
   ]
  },
  {
   "cell_type": "code",
   "execution_count": 8,
   "metadata": {},
   "outputs": [
    {
     "name": "stdout",
     "output_type": "stream",
     "text": [
      "Found 4000 images belonging to 2 classes.\n",
      "Found 2000 images belonging to 2 classes.\n",
      "Epoch 1/2\n",
      "2000/2000 [==============================] - 357s 176ms/step - loss: 0.3414 - acc: 0.8644 - val_loss: 0.0585 - val_acc: 0.9770\n",
      "Epoch 2/2\n",
      "2000/2000 [==============================] - 347s 173ms/step - loss: 0.0771 - acc: 0.9759 - val_loss: 0.0240 - val_acc: 0.9900\n"
     ]
    }
   ],
   "source": [
    "from keras.models import Model\n",
    "\n",
    "batch_size = 8\n",
    "epochs = 5 \n",
    "\n",
    "input_tensor = Input(shape=(img_height,img_width,3))\n",
    "\n",
    "base_model = xception.Xception(weights='imagenet',\n",
    "                                            include_top=False,\n",
    "                                            input_shape=(img_width, img_height, 3),\n",
    "                                            pooling='avg')\n",
    "\n",
    "top_model = Sequential()\n",
    "    \n",
    "top_model.add(Dense(256, activation='relu', input_shape=base_model.output_shape[1:]))\n",
    "top_model.add(Dropout(0.5))\n",
    "\n",
    "top_model.add(Dense(128, activation='relu'))\n",
    "top_model.add(Dropout(0.5))    \n",
    "\n",
    "top_model.add(Dense(1, activation='sigmoid'))\n",
    "\n",
    "top_model.load_weights('top-weights.hdf5')\n",
    "\n",
    "model = Model(inputs=base_model.input, outputs=top_model(base_model.output))\n",
    "\n",
    "model.compile(optimizer=SGD(lr=0.005, momentum=0.1, nesterov=True),\n",
    "              loss='binary_crossentropy',\n",
    "              metrics=['acc'])\n",
    "\n",
    "\n",
    "checkpointer = ModelCheckpoint(filepath='weights.hdf5', verbose=1, save_best_only=True)\n",
    "\n",
    "train_datagen = image.ImageDataGenerator(\n",
    "        rescale=1./255,\n",
    "        shear_range=0.2,\n",
    "        zoom_range=0.2,\n",
    "        horizontal_flip=True)\n",
    "\n",
    "test_datagen = image.ImageDataGenerator(rescale=1./255)\n",
    "\n",
    "train_generator = train_datagen.flow_from_directory(\n",
    "        train_data_dir,\n",
    "        target_size=(img_height, img_width),\n",
    "        batch_size=batch_size,\n",
    "        class_mode='binary')\n",
    "\n",
    "validation_generator = test_datagen.flow_from_directory(\n",
    "        validation_data_dir,\n",
    "        target_size=(img_height, img_width),\n",
    "        batch_size=batch_size,\n",
    "        class_mode='binary')\n",
    "\n",
    "history = model.fit(train_generator,\n",
    "                            steps_per_epoch=nb_train_samples // batch_size,\n",
    "                            epochs=epochs,\n",
    "                            validation_data=validation_generator,\n",
    "                            validation_steps=nb_validation_samples // batch_size)"
   ]
  },
  {
   "cell_type": "code",
   "execution_count": 29,
   "metadata": {},
   "outputs": [
    {
     "name": "stdout",
     "output_type": "stream",
     "text": [
      "Found 6000 images belonging to 2 classes.\n",
      "3000/3000 [==============================] - 94s 31ms/step - loss: 0.0296 - acc: 0.9898\n",
      "[0.02963925153017044, 0.9898333549499512]\n"
     ]
    }
   ],
   "source": [
    "test_generator = data_generator.flow_from_directory(\n",
    "    test_data_dir,\n",
    "    target_size=(img_height, img_width),\n",
    "    batch_size=batch_size,\n",
    "    class_mode='binary',\n",
    "    shuffle=False)\n",
    "\n",
    "score = model.evaluate(test_generator)\n",
    "print(\"Loss: \", score[0], \"Accuracy: \", score[1])"
   ]
  },
  {
   "cell_type": "code",
   "execution_count": null,
   "metadata": {},
   "outputs": [],
   "source": []
  },
  {
   "cell_type": "code",
   "execution_count": null,
   "metadata": {},
   "outputs": [],
   "source": []
  },
  {
   "cell_type": "code",
   "execution_count": null,
   "metadata": {},
   "outputs": [],
   "source": []
  },
  {
   "cell_type": "code",
   "execution_count": null,
   "metadata": {},
   "outputs": [],
   "source": []
  },
  {
   "cell_type": "code",
   "execution_count": null,
   "metadata": {},
   "outputs": [],
   "source": []
  },
  {
   "cell_type": "code",
   "execution_count": null,
   "metadata": {},
   "outputs": [],
   "source": []
  }
 ],
 "metadata": {
  "kernelspec": {
   "display_name": "Python 3",
   "language": "python",
   "name": "python3"
  },
  "language_info": {
   "codemirror_mode": {
    "name": "ipython",
    "version": 3
   },
   "file_extension": ".py",
   "mimetype": "text/x-python",
   "name": "python",
   "nbconvert_exporter": "python",
   "pygments_lexer": "ipython3",
   "version": "3.8.3"
  }
 },
 "nbformat": 4,
 "nbformat_minor": 2
}
