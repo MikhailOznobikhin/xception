{
 "cells": [
  {
   "cell_type": "code",
   "execution_count": 6,
   "metadata": {},
   "outputs": [],
   "source": [
    "from os import listdir, rename\n",
    "from os.path import isfile, join\n",
    "\n",
    "source_dir = 'data/train_raw'\n",
    "train_dir = 'data/train'\n",
    "validation_dir = './data/validation'\n",
    "test_dir = './data/test'\n",
    "\n",
    "cats_dir = 'cats'\n",
    "dogs_dir = 'dogs'\n",
    "\n",
    "images = [f for f in listdir(source_dir) if isfile(join(source_dir, f))]"
   ]
  },
  {
   "cell_type": "code",
   "execution_count": 7,
   "metadata": {},
   "outputs": [
    {
     "name": "stdout",
     "output_type": "stream",
     "text": [
      "12500\n"
     ]
    }
   ],
   "source": [
    "dogs = [i for i in images if i.startswith('dog')]\n",
    "print(len(dogs))"
   ]
  },
  {
   "cell_type": "code",
   "execution_count": 8,
   "metadata": {},
   "outputs": [
    {
     "name": "stdout",
     "output_type": "stream",
     "text": [
      "12500\n"
     ]
    }
   ],
   "source": [
    "cats = [i for i in images if i.startswith('cat')]\n",
    "print(len(cats))"
   ]
  },
  {
   "cell_type": "code",
   "execution_count": 9,
   "metadata": {},
   "outputs": [],
   "source": [
    "for cat in cats[:2000]:\n",
    "    rename(join(source_dir, cat), join(train_dir, cats_dir, cat))\n",
    "    \n",
    "for cat in cats [2000:3000]:\n",
    "    rename(join(source_dir, cat), join(validation_dir, cats_dir, cat))\n",
    "    \n",
    "for cat in cats [3000:6000]:\n",
    "    rename(join(source_dir, cat), join(test_dir, cats_dir, cat))"
   ]
  },
  {
   "cell_type": "code",
   "execution_count": 10,
   "metadata": {},
   "outputs": [],
   "source": [
    "for dog in dogs[:2000]:\n",
    "    rename(join(source_dir, dog), join(train_dir, dogs_dir, dog))\n",
    "    \n",
    "for dog in dogs [2000:3000]:\n",
    "    rename(join(source_dir, dog), join(validation_dir, dogs_dir, dog))\n",
    "    \n",
    "for dog in dogs [3000:6000]:\n",
    "    rename(join(source_dir, dog), join(test_dir, dogs_dir, dog))"
   ]
  },
  {
   "cell_type": "code",
   "execution_count": null,
   "metadata": {},
   "outputs": [],
   "source": []
  },
  {
   "cell_type": "code",
   "execution_count": null,
   "metadata": {},
   "outputs": [],
   "source": []
  }
 ],
 "metadata": {
  "kernelspec": {
   "display_name": "Python 3",
   "language": "python",
   "name": "python3"
  },
  "language_info": {
   "codemirror_mode": {
    "name": "ipython",
    "version": 3
   },
   "file_extension": ".py",
   "mimetype": "text/x-python",
   "name": "python",
   "nbconvert_exporter": "python",
   "pygments_lexer": "ipython3",
   "version": "3.8.3"
  }
 },
 "nbformat": 4,
 "nbformat_minor": 2
}
